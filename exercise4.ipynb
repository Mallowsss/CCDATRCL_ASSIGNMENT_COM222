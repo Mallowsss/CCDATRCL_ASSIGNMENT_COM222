{
  "cells": [
    {
      "cell_type": "markdown",
      "metadata": {
        "id": "view-in-github",
        "colab_type": "text"
      },
      "source": [
        "<a href=\"https://colab.research.google.com/github/Mallowsss/CCDATRCL_ASSIGNMENT_COM222/blob/main/exercise4.ipynb\" target=\"_parent\"><img src=\"https://colab.research.google.com/assets/colab-badge.svg\" alt=\"Open In Colab\"/></a>"
      ]
    },
    {
      "cell_type": "markdown",
      "metadata": {
        "id": "fCO3VeNzvGDc"
      },
      "source": [
        "# Exercise 4"
      ]
    },
    {
      "cell_type": "markdown",
      "metadata": {
        "id": "UCFGr2qPKONg"
      },
      "source": [
        "#### Pre-defined sorting algorithms"
      ]
    },
    {
      "cell_type": "code",
      "execution_count": null,
      "metadata": {
        "id": "dXWXOLWtKONg"
      },
      "outputs": [],
      "source": [
        "def mergeSort(array):\n",
        "    if len(array) > 1:\n",
        "\n",
        "        #  r is the point where the array is divided into two subarrays\n",
        "        r = len(array)//2\n",
        "        L = array[:r]\n",
        "        M = array[r:]\n",
        "\n",
        "        # Sort the two halves\n",
        "        mergeSort(L)\n",
        "        mergeSort(M)\n",
        "\n",
        "        i = j = k = 0\n",
        "\n",
        "        # Until we reach either end of either L or M, pick larger among\n",
        "        # elements L and M and place them in the correct position at A[p..r]\n",
        "        while i < len(L) and j < len(M):\n",
        "            if L[i] < M[j]:\n",
        "                array[k] = L[i]\n",
        "                i += 1\n",
        "            else:\n",
        "                array[k] = M[j]\n",
        "                j += 1\n",
        "            k += 1\n",
        "\n",
        "        # When we run out of elements in either L or M,\n",
        "        # pick up the remaining elements and put in A[p..r]\n",
        "        while i < len(L):\n",
        "            array[k] = L[i]\n",
        "            i += 1\n",
        "            k += 1\n",
        "\n",
        "        while j < len(M):\n",
        "            array[k] = M[j]\n",
        "            j += 1\n",
        "            k += 1\n",
        "\n",
        "# Print the array\n",
        "def printList(array):\n",
        "    for i in range(len(array)):\n",
        "        print(array[i], end=\" \")\n",
        "    print()"
      ]
    },
    {
      "cell_type": "code",
      "execution_count": null,
      "metadata": {
        "id": "OB-JMVxvKONi"
      },
      "outputs": [],
      "source": [
        "def countingSort(array):\n",
        "    size = len(array)\n",
        "    output = [0] * size\n",
        "\n",
        "    # Initialize count array\n",
        "    count = [0] * 10\n",
        "\n",
        "    # Store the count of each elements in count array\n",
        "    for i in range(0, size):\n",
        "        count[array[i]] += 1\n",
        "\n",
        "    # Store the cummulative count\n",
        "    for i in range(1, 10):\n",
        "        count[i] += count[i - 1]\n",
        "\n",
        "    # Find the index of each element of the original array in count array\n",
        "    # place the elements in output array\n",
        "    i = size - 1\n",
        "    while i >= 0:\n",
        "        output[count[array[i]] - 1] = array[i]\n",
        "        count[array[i]] -= 1\n",
        "        i -= 1\n",
        "\n",
        "    # Copy the sorted elements into original array\n",
        "    for i in range(0, size):\n",
        "        array[i] = output[i]"
      ]
    },
    {
      "cell_type": "code",
      "execution_count": null,
      "metadata": {
        "id": "VXaukk4_KONj"
      },
      "outputs": [],
      "source": [
        "def insertionSort(array):\n",
        "\n",
        "    for step in range(1, len(array)):\n",
        "        key = array[step]\n",
        "        j = step - 1\n",
        "\n",
        "        # Compare key with each element on the left of it until an element smaller than it is found\n",
        "        # For descending order, change key<array[j] to key>array[j].\n",
        "        while j >= 0 and key < array[j]:\n",
        "            array[j + 1] = array[j]\n",
        "            j = j - 1\n",
        "\n",
        "        # Place key at after the element just smaller than it.\n",
        "        array[j + 1] = key"
      ]
    },
    {
      "cell_type": "code",
      "execution_count": null,
      "metadata": {
        "id": "b4yWHH1nKONj"
      },
      "outputs": [],
      "source": [
        "# Bubble sort in Python\n",
        "def bubbleSort(array):\n",
        "\n",
        "  # loop to access each array element\n",
        "  for i in range(len(array)):\n",
        "\n",
        "    # loop to compare array elements\n",
        "    for j in range(0, len(array) - i - 1):\n",
        "\n",
        "      # compare two adjacent elements\n",
        "      # change > to < to sort in descending order\n",
        "      if array[j] > array[j + 1]:\n",
        "\n",
        "        # swapping elements if elements\n",
        "        # are not in the intended order\n",
        "        temp = array[j]\n",
        "        array[j] = array[j+1]\n",
        "        array[j+1] = temp"
      ]
    },
    {
      "cell_type": "markdown",
      "metadata": {
        "id": "6j9PZVsyvGDe"
      },
      "source": [
        "#### 1. Sort your **student number** in **ascending order**\n",
        "\n",
        "Example:\n",
        "\n",
        "**Input: 2022123456**\n",
        "\n",
        "**Output: 0122223456**"
      ]
    },
    {
      "cell_type": "code",
      "execution_count": 5,
      "metadata": {
        "id": "UuNMRCm3vGDe",
        "colab": {
          "base_uri": "https://localhost:8080/"
        },
        "outputId": "ac93c981-9fc6-46ae-e556-54178a3037f7"
      },
      "outputs": [
        {
          "output_type": "stream",
          "name": "stdout",
          "text": [
            "0012224678\n"
          ]
        }
      ],
      "source": [
        "# put your answer here\n",
        "def countingSort(array):\n",
        "    size = len(array)\n",
        "    output = [0] * size\n",
        "\n",
        "    # Initialize count array\n",
        "    count = [0] * 10\n",
        "\n",
        "    # Store the count of each element in count array\n",
        "    for i in range(0, size):\n",
        "        count[array[i]] += 1\n",
        "\n",
        "    # Store the cumulative count\n",
        "    for i in range(1, 10):\n",
        "        count[i] += count[i - 1]\n",
        "\n",
        "    # Find the index of each element of the original array in count array\n",
        "    # Place the elements in the output array\n",
        "    i = size - 1\n",
        "    while i >= 0:\n",
        "        output[count[array[i]] - 1] = array[i]\n",
        "        count[array[i]] -= 1\n",
        "        i -= 1\n",
        "\n",
        "    # Copy the sorted elements into the original array\n",
        "    for i in range(0, size):\n",
        "        array[i] = output[i]\n",
        "\n",
        "student_number = [2, 0, 2, 2, 1, 0, 4, 7, 6, 8]\n",
        "countingSort(student_number)\n",
        "\n",
        "# Print the sorted student number without commas and brackets\n",
        "print(''.join(map(str, student_number)))"
      ]
    },
    {
      "cell_type": "markdown",
      "metadata": {
        "id": "felukBjnvGDf"
      },
      "source": [
        "#### 2. Sort the **dates** in **ascending order**.\n",
        "\n",
        "dates = [\"12-25-2023\", birthday, \"01-01-2023\"]\n",
        "\n",
        "Enter your birthday in the birthday variable."
      ]
    },
    {
      "cell_type": "code",
      "execution_count": 12,
      "metadata": {
        "id": "f8xQ3N0jvGDg",
        "colab": {
          "base_uri": "https://localhost:8080/"
        },
        "outputId": "e082788b-1167-4587-c8b0-7aadcd1769e1"
      },
      "outputs": [
        {
          "output_type": "stream",
          "name": "stdout",
          "text": [
            "dates = [03-12-2004, 01-01-2023, 12-25-2023]\n"
          ]
        }
      ],
      "source": [
        "# put your answer here\n",
        "\n",
        "# Your birthday should be in mm-dd-yyyy\n",
        "def bubbleSort(array):\n",
        "    for i in range(len(array)):\n",
        "        for j in range(0, len(array) - i - 1):\n",
        "            date1 = array[j]\n",
        "            date2 = array[j + 1]\n",
        "\n",
        "            day1, month1, year1 = map(int, date1.split('-'))\n",
        "            day2, month2, year2 = map(int, date2.split('-'))\n",
        "\n",
        "            if year1 > year2 or (year1 == year2 and month1 > month2) or (year1 == year2 and month1 == month2 and day1 > day2):\n",
        "                array[j], array[j + 1] = array[j + 1], array[j]\n",
        "\n",
        "birthday = \"03-12-2004\"\n",
        "dates = [\"12-25-2023\", birthday, \"01-01-2023\"]\n",
        "\n",
        "bubbleSort(dates)\n",
        "print(\"dates =\", '[{}]'.format(', '.join(dates)))"
      ]
    },
    {
      "cell_type": "markdown",
      "metadata": {
        "id": "IFDPeGZxvGDg"
      },
      "source": [
        "#### 3. Count the **total number of swaps** to sort the list below using **Bubble Sort**\n",
        "\n",
        "|3|2|5|1|4|\n",
        "|---|----|---|---|---|"
      ]
    },
    {
      "cell_type": "code",
      "execution_count": 14,
      "metadata": {
        "id": "b1ppwLcevGDg",
        "outputId": "edecd1a4-f8d6-44a4-9d77-e158af004ee6",
        "colab": {
          "base_uri": "https://localhost:8080/"
        }
      },
      "outputs": [
        {
          "output_type": "stream",
          "name": "stdout",
          "text": [
            "Sorted List: [1, 2, 3, 4, 5]\n",
            "Total Swaps: 5\n"
          ]
        }
      ],
      "source": [
        "# put your answer here\n",
        "def bubbleSortWithCount(array):\n",
        "    swaps = 0\n",
        "\n",
        "    for i in range(len(array)):\n",
        "        for j in range(0, len(array) - i - 1):\n",
        "            if array[j] > array[j + 1]:\n",
        "                array[j], array[j + 1] = array[j + 1], array[j]\n",
        "                swaps += 1\n",
        "\n",
        "    return swaps\n",
        "\n",
        "my_list = [3, 2, 5, 1, 4]\n",
        "\n",
        "total_swaps = bubbleSortWithCount(my_list)\n",
        "\n",
        "print(\"Sorted List:\", my_list)\n",
        "print(\"Total Swaps:\", total_swaps)"
      ]
    },
    {
      "cell_type": "markdown",
      "metadata": {
        "id": "iO2UusQWvGDi"
      },
      "source": [
        "#### 4. Count the **total number of steps** to sort the list below using **Insertion Sort**\n",
        "\n",
        "\n",
        "|6|2|5|7|4|1|8|9|3|\n",
        "|---|---|---|---|---|---|---|---|---|"
      ]
    },
    {
      "cell_type": "code",
      "execution_count": 15,
      "metadata": {
        "id": "vq1PYEjmvGDi",
        "outputId": "ee37e668-1f15-40aa-c7d5-804ef5530eea",
        "colab": {
          "base_uri": "https://localhost:8080/"
        }
      },
      "outputs": [
        {
          "output_type": "stream",
          "name": "stdout",
          "text": [
            "Sorted List: [1, 2, 3, 4, 5, 6, 7, 8, 9]\n",
            "Total Steps: 16\n"
          ]
        }
      ],
      "source": [
        "# put your answer here\n",
        "def insertionSortWithSteps(array):\n",
        "    steps = 0\n",
        "\n",
        "    for step in range(1, len(array)):\n",
        "        key = array[step]\n",
        "        j = step - 1\n",
        "\n",
        "        while j >= 0 and key < array[j]:\n",
        "            array[j + 1] = array[j]\n",
        "            j = j - 1\n",
        "            steps += 1\n",
        "\n",
        "        array[j + 1] = key\n",
        "\n",
        "    return steps\n",
        "\n",
        "my_list = [6, 2, 5, 7, 4, 1, 8, 9, 3]\n",
        "\n",
        "total_steps = insertionSortWithSteps(my_list)\n",
        "\n",
        "print(\"Sorted List:\", my_list)\n",
        "print(\"Total Steps:\", total_steps)"
      ]
    },
    {
      "cell_type": "markdown",
      "metadata": {
        "id": "jpfNCCdbvGDj"
      },
      "source": [
        "#### 5. Given the list below:\n",
        "\n",
        "\n",
        "|7|5|4|3|2|5|1|8|\n",
        "|---|---|---|---|---|---|---|---|\n",
        "\n",
        "Using **merge sort** and **counting sort**\n",
        "\n",
        "Determine which sorting algorithm is faster by counting the total number of steps for each algorithm\n"
      ]
    },
    {
      "cell_type": "code",
      "execution_count": 20,
      "metadata": {
        "id": "2YVK17cSvGDj",
        "outputId": "0f983106-200d-455a-920e-6db0978408ab",
        "colab": {
          "base_uri": "https://localhost:8080/"
        }
      },
      "outputs": [
        {
          "output_type": "stream",
          "name": "stdout",
          "text": [
            "Merge Sort Steps: 24\n",
            "Counting Sort Steps: 8\n",
            "Conclusion: Counting Sort is faster.\n"
          ]
        }
      ],
      "source": [
        "# put your answer here\n",
        "def mergeSortWithSteps(array):\n",
        "    steps = 0\n",
        "\n",
        "    def mergeSort(array):\n",
        "        nonlocal steps\n",
        "        if len(array) > 1:\n",
        "            r = len(array) // 2\n",
        "            L = array[:r]\n",
        "            M = array[r:]\n",
        "\n",
        "            mergeSort(L)\n",
        "            mergeSort(M)\n",
        "\n",
        "            i = j = k = 0\n",
        "\n",
        "            while i < len(L) and j < len(M):\n",
        "                if L[i] < M[j]:\n",
        "                    array[k] = L[i]\n",
        "                    i += 1\n",
        "                else:\n",
        "                    array[k] = M[j]\n",
        "                    j += 1\n",
        "                k += 1\n",
        "                steps += 1\n",
        "\n",
        "            while i < len(L):\n",
        "                array[k] = L[i]\n",
        "                i += 1\n",
        "                k += 1\n",
        "                steps += 1\n",
        "\n",
        "            while j < len(M):\n",
        "                array[k] = M[j]\n",
        "                j += 1\n",
        "                k += 1\n",
        "                steps += 1\n",
        "\n",
        "    mergeSort(array)\n",
        "    return steps\n",
        "\n",
        "def countingSortWithSteps(array):\n",
        "    steps = 0\n",
        "    size = len(array)\n",
        "    output = [0] * size\n",
        "    count = [0] * 10\n",
        "\n",
        "    for i in range(0, size):\n",
        "        count[array[i]] += 1\n",
        "\n",
        "    for i in range(1, 10):\n",
        "        count[i] += count[i - 1]\n",
        "\n",
        "    i = size - 1\n",
        "    while i >= 0:\n",
        "        output[count[array[i]] - 1] = array[i]\n",
        "        count[array[i]] -= 1\n",
        "        i -= 1\n",
        "        steps += 1\n",
        "\n",
        "    for i in range(0, size):\n",
        "        array[i] = output[i]\n",
        "\n",
        "    return steps\n",
        "\n",
        "my_list = [7, 5, 4, 3, 2, 5, 1, 8]\n",
        "\n",
        "merge_sort_steps = mergeSortWithSteps(my_list.copy())\n",
        "\n",
        "counting_sort_steps = countingSortWithSteps(my_list.copy())\n",
        "\n",
        "print(\"Merge Sort Steps:\", merge_sort_steps)\n",
        "print(\"Counting Sort Steps:\", counting_sort_steps)\n",
        "\n",
        "if merge_sort_steps < counting_sort_steps:\n",
        "    print(\"Conclusion: Merge Sort is faster.\")\n",
        "else:\n",
        "    print(\"Conclusion: Counting Sort is faster.\")"
      ]
    }
  ],
  "metadata": {
    "colab": {
      "provenance": [],
      "include_colab_link": true
    },
    "kernelspec": {
      "display_name": "Python 3",
      "language": "python",
      "name": "python3"
    },
    "language_info": {
      "codemirror_mode": {
        "name": "ipython",
        "version": 3
      },
      "file_extension": ".py",
      "mimetype": "text/x-python",
      "name": "python",
      "nbconvert_exporter": "python",
      "pygments_lexer": "ipython3",
      "version": "3.11.4"
    },
    "orig_nbformat": 4
  },
  "nbformat": 4,
  "nbformat_minor": 0
}