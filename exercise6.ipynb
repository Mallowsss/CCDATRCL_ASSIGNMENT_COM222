{
  "cells": [
    {
      "cell_type": "markdown",
      "metadata": {
        "id": "view-in-github",
        "colab_type": "text"
      },
      "source": [
        "<a href=\"https://colab.research.google.com/github/Mallowsss/CCDATRCL_ASSIGNMENT_COM222/blob/main/exercise6.ipynb\" target=\"_parent\"><img src=\"https://colab.research.google.com/assets/colab-badge.svg\" alt=\"Open In Colab\"/></a>"
      ]
    },
    {
      "cell_type": "markdown",
      "metadata": {
        "id": "A9VXFO6xCfGu"
      },
      "source": [
        "# Exercise 6"
      ]
    },
    {
      "cell_type": "markdown",
      "metadata": {
        "id": "Ts-wQzCHCfG2"
      },
      "source": [
        "#### Pre-defined code"
      ]
    },
    {
      "cell_type": "code",
      "execution_count": null,
      "metadata": {
        "id": "1S4zhY2_CfG4"
      },
      "outputs": [],
      "source": [
        "class Node:\n",
        "    def __init__(self, item):\n",
        "        self.left = None\n",
        "        self.right = None\n",
        "        self.val = item"
      ]
    },
    {
      "cell_type": "code",
      "execution_count": null,
      "metadata": {
        "id": "E9iU4SNQCfG5"
      },
      "outputs": [],
      "source": [
        "def inorder(root):\n",
        "\n",
        "    if root:\n",
        "        # Traverse left\n",
        "        inorder(root.left)\n",
        "        # Traverse root\n",
        "        print(str(root.val) + \"->\", end='')\n",
        "        # Traverse right\n",
        "        inorder(root.right)\n",
        "\n",
        "def postorder(root):\n",
        "\n",
        "    if root:\n",
        "        # Traverse left\n",
        "        postorder(root.left)\n",
        "        # Traverse right\n",
        "        postorder(root.right)\n",
        "        # Traverse root\n",
        "        print(str(root.val) + \"->\", end='')\n",
        "\n",
        "def preorder(root):\n",
        "\n",
        "    if root:\n",
        "        # Traverse root\n",
        "        print(str(root.val) + \"->\", end='')\n",
        "        # Traverse left\n",
        "        preorder(root.left)\n",
        "        # Traverse right\n",
        "        preorder(root.right)"
      ]
    },
    {
      "cell_type": "markdown",
      "metadata": {
        "id": "1mwKiXjGCfG6"
      },
      "source": [
        "#### 1. Construct Create your own company org chart and put yourself as CEO.\n",
        "\n",
        "Using a Tree data structure,\n",
        "\n",
        "- Assign yourself as CEO\n",
        "\n",
        "- Assign any of your classmate as HR Director\n",
        "- Assign any of your classmate as Sales Director\n",
        "\n",
        "- Assign any of your classmate as trainee. His/her boss is the HR Director\n",
        "- Assign any of your classmate as a staff and trainee. Their boss is the Sales Director\n"
      ]
    },
    {
      "cell_type": "markdown",
      "metadata": {
        "id": "pHBwINbXCfG6"
      },
      "source": [
        "<img src=\"https://thumbs.dreamstime.com/z/cartoon-organization-chart-some-company-93778925.jpg\"/>"
      ]
    },
    {
      "cell_type": "code",
      "execution_count": 18,
      "metadata": {
        "id": "L-4IN70oCfG6"
      },
      "outputs": [],
      "source": [
        "# put your answer here\n",
        "root = Node(\"CEO: JESSA\")\n",
        "root.left = Node(\"HR: IVAN\")\n",
        "root.right = Node(\"SALES: JAYVEE\")\n",
        "root.left.left = Node(\"TRAINEE: KHYLE\")\n",
        "root.right.left = Node(\"STAFF: JANNA\")\n",
        "root.right.right = Node(\"TRAINEE: LOUISE\")"
      ]
    },
    {
      "cell_type": "markdown",
      "metadata": {
        "id": "9U2WcklhCfG7"
      },
      "source": [
        "#### 2. Traverse the tree in in-order traversal"
      ]
    },
    {
      "cell_type": "code",
      "execution_count": 31,
      "metadata": {
        "colab": {
          "base_uri": "https://localhost:8080/"
        },
        "id": "jxrnqaPCCfG7",
        "outputId": "2954fd6e-5b04-48a1-e37a-f0e0fcf1c3b0"
      },
      "outputs": [
        {
          "output_type": "stream",
          "name": "stdout",
          "text": [
            "In-order Traversal\n",
            "TRAINEE: KHYLE->HR: IVAN->CEO: JESSA->STAFF: JANNA->SALES: JAYVEE->TRAINEE: LOUISE->"
          ]
        }
      ],
      "source": [
        "# put your answer here\n",
        "print(\"In-order Traversal\")\n",
        "inorder(root)"
      ]
    },
    {
      "cell_type": "markdown",
      "metadata": {
        "id": "wp52uMnmCfG7"
      },
      "source": [
        "#### 3. Traverse the tree in pre-order traversal"
      ]
    },
    {
      "cell_type": "code",
      "execution_count": 30,
      "metadata": {
        "colab": {
          "base_uri": "https://localhost:8080/"
        },
        "id": "4bz_zBrlCfG7",
        "outputId": "3c4c881c-502a-4112-a5bf-37518f74533d"
      },
      "outputs": [
        {
          "output_type": "stream",
          "name": "stdout",
          "text": [
            "Pre-order Traversal\n",
            "CEO: JESSA -> HR: IVAN -> TRAINEE: KHYLE -> SALES: JAYVEE -> STAFF: JANNA -> TRAINEE: LOUISE -> "
          ]
        }
      ],
      "source": [
        "# put your answer here\n",
        "print(\"Pre-order Traversal\")\n",
        "preorder(root)"
      ]
    },
    {
      "cell_type": "markdown",
      "metadata": {
        "id": "FV5qs6QWCfG8"
      },
      "source": [
        "#### 4. Traverse the tree in post-order traversal"
      ]
    },
    {
      "cell_type": "code",
      "execution_count": 29,
      "metadata": {
        "colab": {
          "base_uri": "https://localhost:8080/"
        },
        "id": "SlORdGfXCfG8",
        "outputId": "299a1479-d2c9-426a-ddad-ec5513a8eda8"
      },
      "outputs": [
        {
          "output_type": "stream",
          "name": "stdout",
          "text": [
            "Post-order Traversal\n",
            "TRAINEE: KHYLE->HR: IVAN->STAFF: JANNA->TRAINEE: LOUISE->SALES: JAYVEE->CEO: JESSA->"
          ]
        }
      ],
      "source": [
        "# put your answer here\n",
        "print(\"Post-order Traversal\")\n",
        "postorder(root)"
      ]
    }
  ],
  "metadata": {
    "kernelspec": {
      "display_name": "Python 3",
      "language": "python",
      "name": "python3"
    },
    "language_info": {
      "codemirror_mode": {
        "name": "ipython",
        "version": 3
      },
      "file_extension": ".py",
      "mimetype": "text/x-python",
      "name": "python",
      "nbconvert_exporter": "python",
      "pygments_lexer": "ipython3",
      "version": "3.11.4"
    },
    "orig_nbformat": 4,
    "colab": {
      "provenance": [],
      "include_colab_link": true
    }
  },
  "nbformat": 4,
  "nbformat_minor": 0
}