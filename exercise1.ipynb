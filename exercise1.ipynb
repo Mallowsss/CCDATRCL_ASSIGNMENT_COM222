{
  "cells": [
    {
      "cell_type": "markdown",
      "metadata": {
        "id": "h2vFiYhGzZOg"
      },
      "source": [
        "# Exercise 1"
      ]
    },
    {
      "cell_type": "markdown",
      "source": [
        "## Class Initialization"
      ],
      "metadata": {
        "id": "sRm6kPQozcaU"
      }
    },
    {
      "cell_type": "code",
      "execution_count": null,
      "metadata": {
        "id": "b1u4Dt9mzZOi"
      },
      "outputs": [],
      "source": [
        "class Node:\n",
        "    def __init__(self, data):\n",
        "        self.data = data\n",
        "        self.next = None\n",
        "        self.prev = None"
      ]
    },
    {
      "cell_type": "code",
      "execution_count": null,
      "metadata": {
        "id": "tigvHSaHzZOj"
      },
      "outputs": [],
      "source": [
        "class LinkedList:\n",
        "\n",
        "    def __init__(self):\n",
        "        self.head = None\n",
        "\n",
        "    def traverse(self, node):\n",
        "        while node:\n",
        "            print(node.data, end=\" -> \")\n",
        "            node = node.next"
      ]
    },
    {
      "cell_type": "code",
      "execution_count": null,
      "metadata": {
        "id": "LIkQBioVzZOk"
      },
      "outputs": [],
      "source": [
        "class DoublyLinkedList:\n",
        "\n",
        "    def __init__(self):\n",
        "        self.head = None\n",
        "\n",
        "    def traverse(self, node):\n",
        "        while node:\n",
        "            print(node.data, end=\" -> \")\n",
        "            node = node.next"
      ]
    },
    {
      "cell_type": "code",
      "execution_count": null,
      "metadata": {
        "id": "zlxNT5EozZOl"
      },
      "outputs": [],
      "source": [
        "class CircularLinkedList:\n",
        "\n",
        "    def __init__(self):\n",
        "        self.head = None\n",
        "\n",
        "    def traverse(self, node):\n",
        "\n",
        "        head = node\n",
        "\n",
        "        while node:\n",
        "            print(node.data, end=\" -> \")\n",
        "            node = node.next\n",
        "\n",
        "            # Break to prevent infinite loop\n",
        "            if node == head:\n",
        "                break"
      ]
    },
    {
      "cell_type": "markdown",
      "metadata": {
        "id": "O68-Q1-bzZOl"
      },
      "source": [
        "#### 1. Create a Singly Linked list\n",
        "\n",
        "- Each node should contain your name and your seatmates in your row\n",
        "- Create at least 5 nodes\n",
        "- Traverse all nodes"
      ]
    },
    {
      "cell_type": "code",
      "execution_count": 2,
      "metadata": {
        "id": "pTcx_OuPzZOl",
        "outputId": "a50930b6-658b-429e-8067-e0b2528b8fe0",
        "colab": {
          "base_uri": "https://localhost:8080/"
        }
      },
      "outputs": [
        {
          "output_type": "stream",
          "name": "stdout",
          "text": [
            "Jayvee -> Ivan -> Jessa -> Seat 4 -> Seat 5 -> "
          ]
        }
      ],
      "source": [
        "# put your code here\n",
        "# Create a Node class\n",
        "class Node:\n",
        "\n",
        "    def __init__(self, data):\n",
        "        self.data = data\n",
        "        self.next = None # null\n",
        "\n",
        "# Create a LinkedList class\n",
        "class LinkedList:\n",
        "\n",
        "    def __init__(self):\n",
        "        self.head = None\n",
        "\n",
        "    def traverse(self, node):\n",
        "        while node:\n",
        "            print(node.data, end=\" -> \")\n",
        "            node = node.next\n",
        "\n",
        "# Create new instance of LinkedList\n",
        "linked_list = LinkedList()\n",
        "\n",
        "# Give each node a data it will hold\n",
        "linked_list.head = Node(\"Jayvee\")\n",
        "node_b = Node(\"Ivan\")\n",
        "node_c = Node(\"Jessa\")\n",
        "node_d = Node(\"Seat 4\")\n",
        "node_e = Node(\"Seat 5\")\n",
        "\n",
        "# Connect each node\n",
        "linked_list.head.next = node_b\n",
        "node_b.next = node_c\n",
        "node_c.next = node_d\n",
        "node_d.next = node_e\n",
        "\n",
        "# Print\n",
        "linked_list.traverse(linked_list.head)"
      ]
    },
    {
      "cell_type": "markdown",
      "metadata": {
        "id": "IFgwbdw_zZOm"
      },
      "source": [
        "#### 2. Create a Doubly Linked list\n",
        "\n",
        "- Each node should contain your name and your seatmates in your row\n",
        "- Create at least 5 nodes\n",
        "- Traverse all nodes"
      ]
    },
    {
      "cell_type": "code",
      "execution_count": 4,
      "metadata": {
        "id": "8kQD2A_QzZOm",
        "outputId": "27d2f8ab-3eba-478a-c926-77b5e6bd0525",
        "colab": {
          "base_uri": "https://localhost:8080/"
        }
      },
      "outputs": [
        {
          "output_type": "stream",
          "name": "stdout",
          "text": [
            "value of head is : Jayvee\n",
            "value of next to head is : Ivan\n",
            "---\n",
            "value of node_b is : Ivan\n",
            "value of previous of node_b is : Jayvee\n",
            "value of next of node_b is : Jessa\n",
            "---\n",
            "value of node_c is : Jessa\n",
            "value of previous of node_c is : Ivan\n",
            "---\n",
            "value of node_d is : Seat 4\n",
            "value of previous of node_d is : Jessa\n",
            "---\n",
            "value of node_e is : Seat 5\n",
            "value of previous of node_e is : Seat 4\n",
            "---\n",
            "Jayvee -> Ivan -> Jessa -> Seat 4 -> Seat 5 -> "
          ]
        }
      ],
      "source": [
        "# put your code here\n",
        "# Create a Node class\n",
        "class Node:\n",
        "\n",
        "    def __init__(self, data):\n",
        "        self.data = data\n",
        "        self.next = None\n",
        "        self.prev = None\n",
        "\n",
        "# Create a LinkedList class\n",
        "class DoublyLinkedList:\n",
        "\n",
        "    def __init__(self):\n",
        "        self.head = None\n",
        "\n",
        "    def traverse(self, node):\n",
        "        while node:\n",
        "            print(node.data, end=\" -> \")\n",
        "            node = node.next\n",
        "\n",
        "# Create new instance of LinkedList\n",
        "doubly_linked_list = DoublyLinkedList()\n",
        "\n",
        "# Give each node a data it will hold\n",
        "doubly_linked_list.head = Node(\"Jayvee\")\n",
        "node_b = Node(\"Ivan\")\n",
        "node_c = Node(\"Jessa\")\n",
        "node_d = Node(\"Seat 4\")\n",
        "node_e = Node(\"Seat 5\")\n",
        "\n",
        "# Connect each node\n",
        "doubly_linked_list.head.prev = None\n",
        "doubly_linked_list.head.next = node_b\n",
        "\n",
        "node_b.prev = doubly_linked_list.head\n",
        "node_b.next = node_c\n",
        "\n",
        "node_c.prev = node_b\n",
        "node_c.next = node_d\n",
        "\n",
        "node_d.prev = node_c\n",
        "node_d.next = node_e\n",
        "\n",
        "node_e.prev = node_d\n",
        "node_e.next = None\n",
        "\n",
        "# Print value of each node\n",
        "print(\"value of head is :\", doubly_linked_list.head.data)\n",
        "print(\"value of next to head is :\", doubly_linked_list.head.next.data)\n",
        "\n",
        "print(\"---\")\n",
        "\n",
        "print(\"value of node_b is :\", node_b.data)\n",
        "print(\"value of previous of node_b is :\", node_b.prev.data)\n",
        "print(\"value of next of node_b is :\", node_b.next.data)\n",
        "\n",
        "print(\"---\")\n",
        "\n",
        "print(\"value of node_c is :\", node_c.data)\n",
        "print(\"value of previous of node_c is :\", node_c.prev.data)\n",
        "\n",
        "print(\"---\")\n",
        "\n",
        "print(\"value of node_d is :\", node_d.data)\n",
        "print(\"value of previous of node_d is :\", node_d.prev.data)\n",
        "\n",
        "print(\"---\")\n",
        "\n",
        "print(\"value of node_e is :\", node_e.data)\n",
        "print(\"value of previous of node_e is :\", node_e.prev.data)\n",
        "\n",
        "print(\"---\")\n",
        "\n",
        "# Print\n",
        "doubly_linked_list.traverse(doubly_linked_list.head)"
      ]
    },
    {
      "cell_type": "markdown",
      "metadata": {
        "id": "rtApbsCjzZOm"
      },
      "source": [
        "#### 3. Create a Circular Linked list\n",
        "\n",
        "- Each node should contain your name and your seatmates in your row\n",
        "- Create at least 5 nodes\n",
        "- Traverse all nodes"
      ]
    },
    {
      "cell_type": "code",
      "execution_count": 5,
      "metadata": {
        "id": "Gp1Oiq0jzZOn",
        "outputId": "df1feee3-94c1-4820-c7ee-a0a2e9415815",
        "colab": {
          "base_uri": "https://localhost:8080/"
        }
      },
      "outputs": [
        {
          "output_type": "stream",
          "name": "stdout",
          "text": [
            "value of head is : Jayvee\n",
            "value of next to head is : Ivan\n",
            "---\n",
            "value of node_b is : Ivan\n",
            "value of next of node_b is : Jessa\n",
            "---\n",
            "value of node_c is : Jessa\n",
            "value of next of node_c is : Seat 4\n",
            "---\n",
            "value of node_d is : Seat 4\n",
            "value of next of node_d is : Seat 5\n",
            "---\n",
            "value of node_e is : Seat 5\n",
            "value of next of node_e is : Jayvee\n",
            "---\n",
            "Jayvee -> Ivan -> Jessa -> Seat 4 -> Seat 5 -> "
          ]
        }
      ],
      "source": [
        "# put your code here\n",
        "# Create a Node class\n",
        "class Node:\n",
        "    def __init__(self, data):\n",
        "        self.data = data\n",
        "        self.next = None\n",
        "\n",
        "# Create a LinkedList class\n",
        "class CircularLinkedList:\n",
        "\n",
        "    def __init__(self):\n",
        "        self.head = None\n",
        "\n",
        "    def traverse(self, node):\n",
        "\n",
        "        head = node\n",
        "\n",
        "        while node:\n",
        "            print(node.data, end=\" -> \")\n",
        "            node = node.next\n",
        "\n",
        "            # Break to prevent infinite loop\n",
        "            if node == head:\n",
        "                break\n",
        "\n",
        "# Create new instance of LinkedList\n",
        "circular_linked_list = CircularLinkedList()\n",
        "\n",
        "# Give each node a data it will hold\n",
        "circular_linked_list.head = Node(\"Jayvee\")\n",
        "node_b = Node(\"Ivan\")\n",
        "node_c = Node(\"Jessa\")\n",
        "node_d = Node(\"Seat 4\")\n",
        "node_e = Node(\"Seat 5\")\n",
        "\n",
        "# Connect each node\n",
        "circular_linked_list.head.next = node_b\n",
        "node_b.next = node_c\n",
        "node_c.next = node_d\n",
        "node_d.next = node_e\n",
        "node_e.next = circular_linked_list.head\n",
        "\n",
        "# Print value of each node\n",
        "print(\"value of head is :\", circular_linked_list.head.data)\n",
        "print(\"value of next to head is :\", circular_linked_list.head.next.data)\n",
        "\n",
        "print(\"---\")\n",
        "\n",
        "print(\"value of node_b is :\", node_b.data)\n",
        "print(\"value of next of node_b is :\", node_b.next.data)\n",
        "\n",
        "print(\"---\")\n",
        "\n",
        "print(\"value of node_c is :\", node_c.data)\n",
        "print(\"value of next of node_c is :\", node_c.next.data)\n",
        "\n",
        "print(\"---\")\n",
        "\n",
        "print(\"value of node_d is :\", node_d.data)\n",
        "print(\"value of next of node_d is :\", node_d.next.data)\n",
        "\n",
        "print(\"---\")\n",
        "\n",
        "print(\"value of node_e is :\", node_e.data)\n",
        "print(\"value of next of node_e is :\", node_e.next.data)\n",
        "\n",
        "print(\"---\")\n",
        "\n",
        "# Print\n",
        "circular_linked_list.traverse(circular_linked_list.head)"
      ]
    }
  ],
  "metadata": {
    "kernelspec": {
      "display_name": "Python 3",
      "language": "python",
      "name": "python3"
    },
    "language_info": {
      "name": "python",
      "version": "3.11.4"
    },
    "orig_nbformat": 4,
    "colab": {
      "provenance": []
    }
  },
  "nbformat": 4,
  "nbformat_minor": 0
}