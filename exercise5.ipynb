{
  "cells": [
    {
      "cell_type": "markdown",
      "metadata": {
        "id": "view-in-github",
        "colab_type": "text"
      },
      "source": [
        "<a href=\"https://colab.research.google.com/github/Mallowsss/CCDATRCL_ASSIGNMENT_COM222/blob/main/exercise5.ipynb\" target=\"_parent\"><img src=\"https://colab.research.google.com/assets/colab-badge.svg\" alt=\"Open In Colab\"/></a>"
      ]
    },
    {
      "cell_type": "markdown",
      "metadata": {
        "id": "WG44IynSjLSp"
      },
      "source": [
        "# Exercise 5"
      ]
    },
    {
      "cell_type": "markdown",
      "metadata": {
        "id": "tLcW7pLPjLSx"
      },
      "source": [
        "#### 1. Create a dictionary of your 10 favorite songs."
      ]
    },
    {
      "cell_type": "markdown",
      "metadata": {
        "id": "TVIAmzZbjLSy"
      },
      "source": [
        "Example:\n",
        "\n",
        "|KEY|VALUE|\n",
        "|---|---|\n",
        "|001|My Love|\n",
        "|002|Like a rose|"
      ]
    },
    {
      "cell_type": "code",
      "execution_count": 44,
      "metadata": {
        "id": "BP-VElq0jLS0",
        "outputId": "4cb100e1-3e2e-4025-df12-868b31b4ed1a",
        "colab": {
          "base_uri": "https://localhost:8080/"
        }
      },
      "outputs": [
        {
          "output_type": "stream",
          "name": "stdout",
          "text": [
            "My Favorite Songs:\n",
            "KEY\tVALUE\n",
            "001\tFavourite Clothes\n",
            "002\tCrush\n",
            "003\tI Need You Here\n",
            "004\tIf Depression Gets The Best Of Me\n",
            "005\tCliche\n",
            "006\tIf I Die Young\n",
            "007\tOnly\n",
            "008\tAking Pahinga\n",
            "009\tIkaw At Ako\n",
            "010\tYour Song\n"
          ]
        }
      ],
      "source": [
        "# put your answer here\n",
        "favorite_songs = {\n",
        "    \"001\": \"Favourite Clothes\",\n",
        "    \"002\": \"Crush\",\n",
        "    \"003\": \"I Need You Here\",\n",
        "    \"004\": \"If Depression Gets The Best Of Me\",\n",
        "    \"005\": \"Cliche\",\n",
        "    \"006\": \"If I Die Young\",\n",
        "    \"007\": \"Only\",\n",
        "    \"008\": \"Aking Pahinga\",\n",
        "    \"009\": \"Ikaw At Ako\",\n",
        "    \"010\": \"Your Song\"\n",
        "}\n",
        "print(\"My Favorite Songs:\")\n",
        "print(\"KEY\\tVALUE\")\n",
        "for key, value in favorite_songs.items():\n",
        "    print(f\"{key}\\t{value}\")\n"
      ]
    },
    {
      "cell_type": "markdown",
      "metadata": {
        "id": "1Bs9rQVejLS3"
      },
      "source": [
        "#### 2. Loop through the dictionary by its **key** and **value**"
      ]
    },
    {
      "cell_type": "code",
      "execution_count": 45,
      "metadata": {
        "id": "jQgO_ZyTjLS5",
        "outputId": "46043471-a359-48a4-d299-6e4ee4e600c0",
        "colab": {
          "base_uri": "https://localhost:8080/"
        }
      },
      "outputs": [
        {
          "output_type": "stream",
          "name": "stdout",
          "text": [
            "My Favorite Songs:\n",
            "KEY\tVALUE\n",
            "001\tFavourite Clothes\n",
            "002\tCrush\n",
            "003\tI Need You Here\n",
            "004\tIf Depression Gets The Best Of Me\n",
            "005\tCliche\n",
            "006\tIf I Die Young\n",
            "007\tOnly\n",
            "008\tAking Pahinga\n",
            "009\tIkaw At Ako\n",
            "010\tYour Song\n"
          ]
        }
      ],
      "source": [
        "# put your answer here\n",
        "favorite_songs = {\n",
        "    \"001\": \"Favourite Clothes\",\n",
        "    \"002\": \"Crush\",\n",
        "    \"003\": \"I Need You Here\",\n",
        "    \"004\": \"If Depression Gets The Best Of Me\",\n",
        "    \"005\": \"Cliche\",\n",
        "    \"006\": \"If I Die Young\",\n",
        "    \"007\": \"Only\",\n",
        "    \"008\": \"Aking Pahinga\",\n",
        "    \"009\": \"Ikaw At Ako\",\n",
        "    \"010\": \"Your Song\"\n",
        "}\n",
        "print(\"My Favorite Songs:\")\n",
        "print(\"KEY\\tVALUE\")\n",
        "for key, value in favorite_songs.items():\n",
        "    print(f\"{key}\\t{value}\")\n"
      ]
    },
    {
      "cell_type": "markdown",
      "metadata": {
        "id": "YhzMMX6QjLS5"
      },
      "source": [
        "#### 3. Add one additional song"
      ]
    },
    {
      "cell_type": "code",
      "execution_count": 46,
      "metadata": {
        "id": "JmiAHmocjLS6",
        "outputId": "5738a32b-d7c8-45b9-98c9-a77bb6899615",
        "colab": {
          "base_uri": "https://localhost:8080/"
        }
      },
      "outputs": [
        {
          "output_type": "stream",
          "name": "stdout",
          "text": [
            "My Favorite Songs:\n",
            "KEY\tVALUE\n",
            "001\tFavourite Clothes\n",
            "002\tCrush\n",
            "003\tI Need You Here\n",
            "004\tIf Depression Gets The Best Of Me\n",
            "005\tCliche\n",
            "006\tIf I Die Young\n",
            "007\tOnly\n",
            "008\tAking Pahinga\n",
            "009\tIkaw At Ako\n",
            "010\tYour Song\n",
            "011\tHold On\n"
          ]
        }
      ],
      "source": [
        "# put your answer here\n",
        "favorite_songs = {\n",
        "    \"001\": \"Favourite Clothes\",\n",
        "    \"002\": \"Crush\",\n",
        "    \"003\": \"I Need You Here\",\n",
        "    \"004\": \"If Depression Gets The Best Of Me\",\n",
        "    \"005\": \"Cliche\",\n",
        "    \"006\": \"If I Die Young\",\n",
        "    \"007\": \"Only\",\n",
        "    \"008\": \"Aking Pahinga\",\n",
        "    \"009\": \"Ikaw At Ako\",\n",
        "    \"010\": \"Your Song\"\n",
        "}\n",
        "\n",
        "favorite_songs[\"011\"] = \"Hold On\"\n",
        "\n",
        "print(\"My Favorite Songs:\")\n",
        "print(\"KEY\\tVALUE\")\n",
        "for key, value in favorite_songs.items():\n",
        "    print(f\"{key}\\t{value}\")\n"
      ]
    },
    {
      "cell_type": "markdown",
      "metadata": {
        "id": "f106HBd9jLS6"
      },
      "source": [
        "#### 4. Remove one song"
      ]
    },
    {
      "cell_type": "code",
      "execution_count": 28,
      "metadata": {
        "id": "MrL8AhhEjLS7",
        "outputId": "400f8c74-b1f8-4649-e9a9-4caf2ae9a789",
        "colab": {
          "base_uri": "https://localhost:8080/"
        }
      },
      "outputs": [
        {
          "output_type": "stream",
          "name": "stdout",
          "text": [
            "My Favorite Songs:\n",
            "KEY\tVALUE\n",
            "001\tFavourite Clothes\n",
            "002\tCrush\n",
            "004\tIf Depression Gets The Best Of Me\n",
            "005\tCliche\n",
            "006\tIf I Die Young\n",
            "007\tOnly\n",
            "008\tAking Pahinga\n",
            "009\tIkaw At Ako\n",
            "010\tYour Song\n"
          ]
        }
      ],
      "source": [
        "# put your answer here\n",
        "favorite_songs = {\n",
        "    \"001\": \"Favourite Clothes\",\n",
        "    \"002\": \"Crush\",\n",
        "    \"003\": \"I Need You Here\",\n",
        "    \"004\": \"If Depression Gets The Best Of Me\",\n",
        "    \"005\": \"Cliche\",\n",
        "    \"006\": \"If I Die Young\",\n",
        "    \"007\": \"Only\",\n",
        "    \"008\": \"Aking Pahinga\",\n",
        "    \"009\": \"Ikaw At Ako\",\n",
        "    \"010\": \"Your Song\"\n",
        "}\n",
        "\n",
        "favorite_songs.pop(\"003\")\n",
        "\n",
        "print(\"My Favorite Songs:\")\n",
        "print(\"KEY\\tVALUE\")\n",
        "for key, value in favorite_songs.items():\n",
        "    print(f\"{key}\\t{value}\")\n"
      ]
    },
    {
      "cell_type": "markdown",
      "metadata": {
        "id": "5-YrfqsCjLS8"
      },
      "source": [
        "#### 5. Create a nested dictionary of your 10 favorite songs with 5 genres. Display all of the items of the nested dictionary\n",
        "\n",
        "- Each nested dictionary's key should be the genre of the song\n",
        "- Put each song in their respective genre"
      ]
    },
    {
      "cell_type": "markdown",
      "metadata": {
        "id": "UFdlZqeyjLS9"
      },
      "source": [
        "Example:\n",
        "\n",
        "\n",
        "|KEY|VALUE|\n",
        "|---|---|\n",
        "|Pop|{001, Baby}|\n",
        "|Rock|{001, Enter Sandman}|"
      ]
    },
    {
      "cell_type": "code",
      "execution_count": 50,
      "metadata": {
        "id": "qI66UM9DjLS-",
        "outputId": "e8375367-32e4-4cd2-c590-472b54541c8d",
        "colab": {
          "base_uri": "https://localhost:8080/"
        }
      },
      "outputs": [
        {
          "output_type": "stream",
          "name": "stdout",
          "text": [
            "My Favorite Songs:\n",
            "GENRE\t\tSONGS\n",
            "Pop\t\t{'001': 'Favourite Clothes', '002': 'Crush'}\n",
            "Jazz\t\t{'001': 'I Need You Here', '002': 'If Depression Gets The Best Of Me'}\n",
            "Indie\t\t{'001': 'Cliche', '002': 'If I Die Young'}\n",
            "Reggae\t\t{'001': 'Only', '002': 'Aking Pahinga'}\n",
            "Country\t\t{'001': 'Ikaw At Ako', '002': 'Your Song'}\n"
          ]
        }
      ],
      "source": [
        "# put your answer here\n",
        "genres = {\n",
        "    \"Pop\": {\n",
        "        \"001\": \"Favourite Clothes\",\n",
        "        \"002\": \"Crush\",\n",
        "    },\n",
        "    \"Jazz\": {\n",
        "        \"001\": \"I Need You Here\",\n",
        "        \"002\": \"If Depression Gets The Best Of Me\",\n",
        "    },\n",
        "    \"Indie\": {\n",
        "        \"001\": \"Cliche\",\n",
        "        \"002\": \"If I Die Young\",\n",
        "    },\n",
        "    \"Reggae\": {\n",
        "        \"001\": \"Only\",\n",
        "        \"002\": \"Aking Pahinga\",\n",
        "    },\n",
        "    \"Country\": {\n",
        "        \"001\": \"Ikaw At Ako\",\n",
        "        \"002\": \"Your Song\",\n",
        "    }\n",
        "}\n",
        "\n",
        "print(\"My Favorite Songs:\")\n",
        "print(\"GENRE\\t\\tSONGS\")\n",
        "for key, value in genres.items():\n",
        "    print(f\"{key}\\t\\t{value}\")\n"
      ]
    },
    {
      "cell_type": "markdown",
      "metadata": {
        "id": "xmiiUGEGjLS-"
      },
      "source": [
        "#### 6. Print the first song of the first genre"
      ]
    },
    {
      "cell_type": "code",
      "execution_count": 51,
      "metadata": {
        "id": "Sr6W-NxvjLS_",
        "outputId": "3e8b3417-f167-4d10-8ec0-5313eb3f5758",
        "colab": {
          "base_uri": "https://localhost:8080/"
        }
      },
      "outputs": [
        {
          "output_type": "stream",
          "name": "stdout",
          "text": [
            "First song of the first genre:\n",
            "Favourite Clothes\n"
          ]
        }
      ],
      "source": [
        "# put your answer here\n",
        "genres = {\n",
        "    \"Pop\": {\n",
        "        \"001\": \"Favourite Clothes\",\n",
        "        \"002\": \"Crush\",\n",
        "    },\n",
        "    \"Jazz\": {\n",
        "        \"001\": \"I Need You Here\",\n",
        "        \"002\": \"If Depression Gets The Best Of Me\",\n",
        "    },\n",
        "    \"Indie\": {\n",
        "        \"001\": \"Cliche\",\n",
        "        \"002\": \"If I Die Young\",\n",
        "    },\n",
        "    \"Reggae\": {\n",
        "        \"001\": \"Only\",\n",
        "        \"002\": \"Aking Pahinga\",\n",
        "    },\n",
        "    \"Country\": {\n",
        "        \"001\": \"Ikaw At Ako\",\n",
        "        \"002\": \"Your Song\",\n",
        "    }\n",
        "}\n",
        "\n",
        "print(\"First song of the first genre:\")\n",
        "print(genres[\"Pop\"][\"001\"])"
      ]
    },
    {
      "cell_type": "markdown",
      "metadata": {
        "id": "XOKwARRsjLS_"
      },
      "source": [
        "#### 7. Print the first song of the last genre"
      ]
    },
    {
      "cell_type": "code",
      "execution_count": 52,
      "metadata": {
        "id": "dcTYutyejLTA",
        "outputId": "94f72620-3823-44e2-b2eb-a4c95e71a6cc",
        "colab": {
          "base_uri": "https://localhost:8080/"
        }
      },
      "outputs": [
        {
          "output_type": "stream",
          "name": "stdout",
          "text": [
            "First song of the last genre:\n",
            "Ikaw At Ako\n"
          ]
        }
      ],
      "source": [
        "# put your answer here\n",
        "genres = {\n",
        "    \"Pop\": {\n",
        "        \"001\": \"Favourite Clothes\",\n",
        "        \"002\": \"Crush\",\n",
        "    },\n",
        "    \"Jazz\": {\n",
        "        \"001\": \"I Need You Here\",\n",
        "        \"002\": \"If Depression Gets The Best Of Me\",\n",
        "    },\n",
        "    \"Indie\": {\n",
        "        \"001\": \"Cliche\",\n",
        "        \"002\": \"If I Die Young\",\n",
        "    },\n",
        "    \"Reggae\": {\n",
        "        \"001\": \"Only\",\n",
        "        \"002\": \"Aking Pahinga\",\n",
        "    },\n",
        "    \"Country\": {\n",
        "        \"001\": \"Ikaw At Ako\",\n",
        "        \"002\": \"Your Song\",\n",
        "    }\n",
        "}\n",
        "\n",
        "print(\"First song of the last genre:\")\n",
        "print(genres[\"Country\"][\"001\"])"
      ]
    }
  ],
  "metadata": {
    "kernelspec": {
      "display_name": "Python 3",
      "language": "python",
      "name": "python3"
    },
    "language_info": {
      "codemirror_mode": {
        "name": "ipython",
        "version": 3
      },
      "file_extension": ".py",
      "mimetype": "text/x-python",
      "name": "python",
      "nbconvert_exporter": "python",
      "pygments_lexer": "ipython3",
      "version": "3.11.4"
    },
    "orig_nbformat": 4,
    "colab": {
      "provenance": [],
      "include_colab_link": true
    }
  },
  "nbformat": 4,
  "nbformat_minor": 0
}